{
  "cells": [
    {
      "metadata": {
        "_uuid": "8f2839f25d086af736a60e9eeb907d3b93b6e0e5",
        "_cell_guid": "b1076dfc-b9ad-4769-8c92-a6c4dae69d19",
        "trusted": true,
        "collapsed": true
      },
      "cell_type": "code",
      "source": "%matplotlib inline\n\nimport numpy as np\nimport pandas as pd\nfrom sklearn.svm import SVC\nfrom sklearn.model_selection import train_test_split\nimport matplotlib.pyplot as plt\nimport seaborn as sns\n\ncolor = sns.color_palette()",
      "execution_count": null,
      "outputs": []
    },
    {
      "metadata": {
        "trusted": true,
        "_uuid": "e790c494cfe8e48ebf4e6a119abc8bfadd039f50",
        "collapsed": true
      },
      "cell_type": "code",
      "source": "df_train = pd.read_csv('../input/train.csv',nrows=5000,skiprows = range(1,2000))\ndf_train.head()",
      "execution_count": null,
      "outputs": []
    },
    {
      "metadata": {
        "_cell_guid": "79c7e3d0-c299-4dcb-8224-4455121ee9b0",
        "_uuid": "d629ff2d2480ee46fbb7e2d37f6b5fab8052498a",
        "trusted": true,
        "collapsed": true
      },
      "cell_type": "code",
      "source": "X_test = pd.read_csv('../input/test.csv')\nX_test.head()",
      "execution_count": null,
      "outputs": []
    },
    {
      "metadata": {
        "trusted": true,
        "_uuid": "f26a213a05f07b667489631c0ef12c4bacced913",
        "collapsed": true
      },
      "cell_type": "code",
      "source": "df_train.shape",
      "execution_count": null,
      "outputs": []
    },
    {
      "metadata": {
        "trusted": true,
        "_uuid": "df867aba6a1182c4181d189519cd31152c17cdcb",
        "collapsed": true
      },
      "cell_type": "code",
      "source": "X_test.shape",
      "execution_count": null,
      "outputs": []
    },
    {
      "metadata": {
        "trusted": true,
        "_uuid": "dfb514e6b7184017dba7f31cf30fe0bf37b682df",
        "collapsed": true
      },
      "cell_type": "code",
      "source": "arr = df_train.label.value_counts()\nplt.bar(arr.index,arr.values)",
      "execution_count": null,
      "outputs": []
    },
    {
      "metadata": {
        "trusted": true,
        "collapsed": true,
        "_uuid": "e9bc44c12b12118a9a57cb3c31e1cad94181085d"
      },
      "cell_type": "code",
      "source": "y = df_train['label']\ndf_train = df_train.drop('label',axis=1)",
      "execution_count": null,
      "outputs": []
    },
    {
      "metadata": {
        "trusted": true,
        "_uuid": "fd703ed079df6f627b9fb597bd54c6a31e611469",
        "collapsed": true
      },
      "cell_type": "code",
      "source": "df_train.shape",
      "execution_count": null,
      "outputs": []
    },
    {
      "metadata": {
        "trusted": true,
        "_uuid": "ce03e82fb96fe62d8bb210827dca531ef8a79d60",
        "collapsed": true
      },
      "cell_type": "code",
      "source": "y.shape",
      "execution_count": null,
      "outputs": []
    },
    {
      "metadata": {
        "trusted": true,
        "_uuid": "11280790207da5d4987b836e4ea1cb3505fa66c1",
        "scrolled": true,
        "collapsed": true
      },
      "cell_type": "code",
      "source": "X_train, X_valid, y_train, y_valid = train_test_split(df_train, y, test_size = 0.3, random_state = 42)\nprint(X_train.shape)\nprint(X_valid.shape)\nprint(y_train.shape)\nprint(y_valid.shape)",
      "execution_count": null,
      "outputs": []
    },
    {
      "metadata": {
        "trusted": true,
        "_uuid": "6c73c07da0085dc0df949f6389708dc24f061675",
        "scrolled": false,
        "collapsed": true
      },
      "cell_type": "code",
      "source": "X_train.describe()",
      "execution_count": null,
      "outputs": []
    },
    {
      "metadata": {
        "trusted": true,
        "_uuid": "7ebe73b687ee368cb4707994e7b8863f8551f0de",
        "scrolled": true,
        "collapsed": true
      },
      "cell_type": "code",
      "source": "svm = SVC(random_state = 39) # gives 9-10 % accuracy on submission\nsvm.fit(X_train,y_train)\nprint(svm.score(X_valid,y_valid))\npredict1 = svm.predict(X_test)",
      "execution_count": null,
      "outputs": []
    },
    {
      "metadata": {
        "trusted": true,
        "_uuid": "220d44dbf13e2752ea2725c6428b6f7b03adfc1e",
        "collapsed": true
      },
      "cell_type": "code",
      "source": "svm = SVC(C=10,kernel='linear',gamma='scale',random_state = 42) # gives 9-10% accuracy on submission i.e. changing seeds has no affect of accuracy on SVM \nsvm.fit(X_train,y_train)\nprint(svm.score(X_valid,y_valid))\npredict2 = svm.predict(X_test)",
      "execution_count": null,
      "outputs": []
    },
    {
      "metadata": {
        "trusted": true,
        "collapsed": true,
        "_uuid": "88bb25d8d82f4e40b83eba733b51d8f25ed7ecbb"
      },
      "cell_type": "code",
      "source": "#  Scaling the pixel values as SVM is not scale invariant\nnew_df_train = df_train.copy()\nnew_df_train[new_df_train>0] = 1\nnew_X_test = X_test.copy()\nnew_X_test[new_X_test>0] = 1",
      "execution_count": null,
      "outputs": []
    },
    {
      "metadata": {
        "trusted": true,
        "_uuid": "6c5844370a213bc008d5273884f44c87dd69146b",
        "collapsed": true
      },
      "cell_type": "code",
      "source": "svm = SVC(C=1,kernel='rbf',random_state = 42)\nsvm.fit(X_train,y_train)\nprint(svm.score(X_valid,y_valid))\npredict3 = svm.predict(new_X_test)",
      "execution_count": null,
      "outputs": []
    },
    {
      "metadata": {
        "trusted": true,
        "_uuid": "ae38336b379f1c02021af6ccf5e98c4e320d4db0",
        "collapsed": true
      },
      "cell_type": "code",
      "source": "plt.scatter(range(1,len(X_test)+1),predict1)\nplt.show()\nplt.scatter(range(1,len(X_test)+1),predict2)\nplt.show()\nplt.scatter(range(1,len(X_test)+1),predict3)\nplt.show()",
      "execution_count": null,
      "outputs": []
    },
    {
      "metadata": {
        "trusted": true,
        "collapsed": true,
        "_uuid": "ad60063572cdb3f69570fc7e4d74973821a71dc0"
      },
      "cell_type": "code",
      "source": "# new_df_train = df_train.copy()\n# new_df_train = new_df_train / 255",
      "execution_count": null,
      "outputs": []
    },
    {
      "metadata": {
        "trusted": true,
        "collapsed": true,
        "_uuid": "f68798d593b433075f789dcb5781b6fd2f1432b0"
      },
      "cell_type": "code",
      "source": "# X_train, X_valid, y_train, y_valid = train_test_split(new_df_train,y,test_size=0.3,random_state=42)",
      "execution_count": null,
      "outputs": []
    },
    {
      "metadata": {
        "trusted": true,
        "_uuid": "f694cca5df05212b0486ccf733d23cd1c4996a8a",
        "collapsed": true
      },
      "cell_type": "code",
      "source": "# svm = SVC(random_state = 42)\n# svm.fit(X_train,y_train)\n# svm.score(X_valid,y_valid)",
      "execution_count": null,
      "outputs": []
    },
    {
      "metadata": {
        "trusted": true,
        "_uuid": "aee8ca895348bba9db20b06408bb1fbde23f29dc",
        "collapsed": true
      },
      "cell_type": "code",
      "source": "# svm = SVC(C=7, kernel='rbf', degree=3, tol=0.001, verbose=True, random_state=2018)\n# svm.fit(X_train,y_train)\n# svm.score(X_valid,y_valid)",
      "execution_count": null,
      "outputs": []
    },
    {
      "metadata": {
        "trusted": true,
        "_uuid": "dff550ac85d9855f7d07922c94faf7ddce1d3d6e",
        "collapsed": true
      },
      "cell_type": "code",
      "source": "submissions=pd.DataFrame({\"ImageId\": list(range(1,len(predict2)+1)),\n                         \"Label\": predict2})\nsubmissions.to_csv(\"output.csv\", index=False, header=True)",
      "execution_count": null,
      "outputs": []
    },
    {
      "metadata": {
        "trusted": true,
        "collapsed": true,
        "_uuid": "aff3b0b19d928a6f02fe3fe3e7496ef79f562843"
      },
      "cell_type": "code",
      "source": "",
      "execution_count": null,
      "outputs": []
    }
  ],
  "metadata": {
    "kernelspec": {
      "display_name": "Python 3",
      "language": "python",
      "name": "python3"
    },
    "language_info": {
      "name": "python",
      "version": "3.6.5",
      "mimetype": "text/x-python",
      "codemirror_mode": {
        "name": "ipython",
        "version": 3
      },
      "pygments_lexer": "ipython3",
      "nbconvert_exporter": "python",
      "file_extension": ".py"
    }
  },
  "nbformat": 4,
  "nbformat_minor": 1
}